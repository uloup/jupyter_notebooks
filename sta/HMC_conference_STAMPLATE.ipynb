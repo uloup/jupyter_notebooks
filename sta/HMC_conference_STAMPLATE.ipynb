{
 "cells": [
  {
   "cell_type": "code",
   "execution_count": 11,
   "id": "35d4c8d4-7060-4ed6-8ab6-dd7c2a1d856b",
   "metadata": {
    "tags": []
   },
   "outputs": [],
   "source": [
    "import json\n",
    "import pandas as pd\n",
    "import requests"
   ]
  },
  {
   "cell_type": "markdown",
   "id": "56435753-1a13-463e-964a-f7d738a15f15",
   "metadata": {},
   "source": [
    "## Request data with a tailored STA query"
   ]
  },
  {
   "cell_type": "code",
   "execution_count": 12,
   "id": "6c384357-3a43-44f0-b862-0b85b7b389dd",
   "metadata": {
    "tags": []
   },
   "outputs": [],
   "source": [
    "sta_url = \"https://eifelrur.earth-data.fz-juelich.de/FROST-Server/v1.1/\""
   ]
  },
  {
   "cell_type": "code",
   "execution_count": 13,
   "id": "5d0e5f24-a6c4-41c8-a871-08dc27d308fe",
   "metadata": {
    "tags": []
   },
   "outputs": [],
   "source": [
    "request_url = f\"{sta_url}Datastreams(3)/Observations?$select=result,resultTime&$top=1000&$skip=1\"\n",
    "request_result = requests.get(request_url).json()"
   ]
  },
  {
   "cell_type": "markdown",
   "id": "657ecd14-e7a9-4c76-85e7-5355b8dbf0e9",
   "metadata": {},
   "source": [
    "## Check the result"
   ]
  },
  {
   "cell_type": "code",
   "execution_count": 14,
   "id": "242be4c5-b65a-4c48-b22d-1731ee8a09a1",
   "metadata": {
    "tags": []
   },
   "outputs": [
    {
     "data": {
      "text/plain": [
       "1000"
      ]
     },
     "execution_count": 14,
     "metadata": {},
     "output_type": "execute_result"
    }
   ],
   "source": [
    "request_result[\"value\"].__len__()"
   ]
  },
  {
   "cell_type": "markdown",
   "id": "cd78108a-2d50-4a10-a3dd-5fecfe0b75ea",
   "metadata": {},
   "source": [
    "## Work with the result using, e.g., pandas"
   ]
  },
  {
   "cell_type": "code",
   "execution_count": 15,
   "id": "f6d8c316-711c-4512-a7ca-90be4804c8aa",
   "metadata": {
    "tags": []
   },
   "outputs": [],
   "source": [
    "df = pd.json_normalize(request_result[\"value\"])\n",
    "df['result'] = df['result'].astype(float) # Convert to float\n",
    "df['resultTime'] = pd.to_datetime(df['resultTime'], utc=True) # Convert to datetime\n"
   ]
  },
  {
   "cell_type": "code",
   "execution_count": 16,
   "id": "c76575f4-9b00-4cb9-866f-cb9237b2d6fe",
   "metadata": {
    "tags": []
   },
   "outputs": [
    {
     "data": {
      "text/html": [
       "<div>\n",
       "<style scoped>\n",
       "    .dataframe tbody tr th:only-of-type {\n",
       "        vertical-align: middle;\n",
       "    }\n",
       "\n",
       "    .dataframe tbody tr th {\n",
       "        vertical-align: top;\n",
       "    }\n",
       "\n",
       "    .dataframe thead th {\n",
       "        text-align: right;\n",
       "    }\n",
       "</style>\n",
       "<table border=\"1\" class=\"dataframe\">\n",
       "  <thead>\n",
       "    <tr style=\"text-align: right;\">\n",
       "      <th></th>\n",
       "      <th>result</th>\n",
       "      <th>resultTime</th>\n",
       "    </tr>\n",
       "  </thead>\n",
       "  <tbody>\n",
       "    <tr>\n",
       "      <th>0</th>\n",
       "      <td>277.0</td>\n",
       "      <td>2024-01-30 22:30:00+00:00</td>\n",
       "    </tr>\n",
       "    <tr>\n",
       "      <th>1</th>\n",
       "      <td>276.0</td>\n",
       "      <td>2024-01-30 22:40:00+00:00</td>\n",
       "    </tr>\n",
       "    <tr>\n",
       "      <th>2</th>\n",
       "      <td>230.0</td>\n",
       "      <td>2024-01-30 22:50:00+00:00</td>\n",
       "    </tr>\n",
       "    <tr>\n",
       "      <th>3</th>\n",
       "      <td>249.0</td>\n",
       "      <td>2024-01-30 23:00:00+00:00</td>\n",
       "    </tr>\n",
       "    <tr>\n",
       "      <th>4</th>\n",
       "      <td>247.0</td>\n",
       "      <td>2024-01-30 23:10:00+00:00</td>\n",
       "    </tr>\n",
       "    <tr>\n",
       "      <th>...</th>\n",
       "      <td>...</td>\n",
       "      <td>...</td>\n",
       "    </tr>\n",
       "    <tr>\n",
       "      <th>995</th>\n",
       "      <td>36.0</td>\n",
       "      <td>2024-01-07 18:12:25+00:00</td>\n",
       "    </tr>\n",
       "    <tr>\n",
       "      <th>996</th>\n",
       "      <td>7.0</td>\n",
       "      <td>2024-01-07 18:20:00+00:00</td>\n",
       "    </tr>\n",
       "    <tr>\n",
       "      <th>997</th>\n",
       "      <td>35.0</td>\n",
       "      <td>2024-01-07 18:30:00+00:00</td>\n",
       "    </tr>\n",
       "    <tr>\n",
       "      <th>998</th>\n",
       "      <td>20.0</td>\n",
       "      <td>2024-01-07 18:40:00+00:00</td>\n",
       "    </tr>\n",
       "    <tr>\n",
       "      <th>999</th>\n",
       "      <td>35.0</td>\n",
       "      <td>2024-01-07 18:50:00+00:00</td>\n",
       "    </tr>\n",
       "  </tbody>\n",
       "</table>\n",
       "<p>1000 rows × 2 columns</p>\n",
       "</div>"
      ],
      "text/plain": [
       "     result                resultTime\n",
       "0     277.0 2024-01-30 22:30:00+00:00\n",
       "1     276.0 2024-01-30 22:40:00+00:00\n",
       "2     230.0 2024-01-30 22:50:00+00:00\n",
       "3     249.0 2024-01-30 23:00:00+00:00\n",
       "4     247.0 2024-01-30 23:10:00+00:00\n",
       "..      ...                       ...\n",
       "995    36.0 2024-01-07 18:12:25+00:00\n",
       "996     7.0 2024-01-07 18:20:00+00:00\n",
       "997    35.0 2024-01-07 18:30:00+00:00\n",
       "998    20.0 2024-01-07 18:40:00+00:00\n",
       "999    35.0 2024-01-07 18:50:00+00:00\n",
       "\n",
       "[1000 rows x 2 columns]"
      ]
     },
     "execution_count": 16,
     "metadata": {},
     "output_type": "execute_result"
    }
   ],
   "source": [
    "df"
   ]
  },
  {
   "cell_type": "code",
   "execution_count": 22,
   "id": "7f9146a6-80a2-4960-a466-c0cda1a674f6",
   "metadata": {
    "tags": []
   },
   "outputs": [
    {
     "data": {
      "text/plain": [
       "result    227.979\n",
       "dtype: float64"
      ]
     },
     "execution_count": 22,
     "metadata": {},
     "output_type": "execute_result"
    }
   ],
   "source": [
    "df.mean(numeric_only=True)"
   ]
  },
  {
   "cell_type": "code",
   "execution_count": null,
   "id": "0c8cf870-1281-4c75-8d7a-8dd2bdebe612",
   "metadata": {},
   "outputs": [],
   "source": []
  }
 ],
 "metadata": {
  "kernelspec": {
   "display_name": "Python 3 (ipykernel)",
   "language": "python",
   "name": "python3"
  },
  "language_info": {
   "codemirror_mode": {
    "name": "ipython",
    "version": 3
   },
   "file_extension": ".py",
   "mimetype": "text/x-python",
   "name": "python",
   "nbconvert_exporter": "python",
   "pygments_lexer": "ipython3",
   "version": "3.10.12"
  }
 },
 "nbformat": 4,
 "nbformat_minor": 5
}
